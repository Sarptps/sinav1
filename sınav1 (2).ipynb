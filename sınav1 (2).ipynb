{
  "nbformat": 4,
  "nbformat_minor": 0,
  "metadata": {
    "colab": {
      "provenance": []
    },
    "kernelspec": {
      "name": "python3",
      "display_name": "Python 3"
    },
    "language_info": {
      "name": "python"
    }
  },
  "cells": [
    {
      "cell_type": "code",
      "execution_count": null,
      "metadata": {
        "colab": {
          "base_uri": "https://localhost:8080/"
        },
        "id": "ko2aFpDQtsum",
        "outputId": "56549424-ec53-4953-fece-9abfcb1b964d"
      },
      "outputs": [
        {
          "output_type": "stream",
          "name": "stdout",
          "text": [
            "Merhaba,İGÜ - İSTKA!\n"
          ]
        }
      ],
      "source": [
        "print(\"Merhaba,İGÜ - İSTKA!\") # print ekrana cıktı veren bır koddur."
      ]
    },
    {
      "cell_type": "code",
      "source": [
        "import sys # import python proglamlama dilinde kütüphane eklemeye yarayan bir kod blogudur\n",
        "print (sys.version)"
      ],
      "metadata": {
        "colab": {
          "base_uri": "https://localhost:8080/"
        },
        "id": "pZizYoMLtzWn",
        "outputId": "f215d266-6047-4bbd-ec16-2d8649e9f4af"
      },
      "execution_count": null,
      "outputs": [
        {
          "output_type": "stream",
          "name": "stdout",
          "text": [
            "3.10.12 (main, Jul 29 2024, 16:56:48) [GCC 11.4.0]\n"
          ]
        }
      ]
    },
    {
      "cell_type": "code",
      "source": [
        "from google.colab import drive # google colab - drive bağlantısı\n",
        "drive.mount('/content/drive')"
      ],
      "metadata": {
        "colab": {
          "base_uri": "https://localhost:8080/"
        },
        "id": "SiHj7ea0t1ku",
        "outputId": "08123e05-bc4d-4623-a7f2-9098cec2b86e"
      },
      "execution_count": null,
      "outputs": [
        {
          "output_type": "stream",
          "name": "stdout",
          "text": [
            "Mounted at /content/drive\n"
          ]
        }
      ]
    },
    {
      "cell_type": "code",
      "source": [
        "import os\n",
        "os.chdir ('/content/drive/My Drive/')\n",
        "! pwd # bize kodun çıktısını dosya yolu olarak veren kod blogudur"
      ],
      "metadata": {
        "colab": {
          "base_uri": "https://localhost:8080/"
        },
        "id": "36SicrOut7Cj",
        "outputId": "d2fd0c80-f77e-4326-c23b-307a8d6ea86f"
      },
      "execution_count": 56,
      "outputs": [
        {
          "output_type": "stream",
          "name": "stdout",
          "text": [
            "/content/drive/My Drive\n"
          ]
        }
      ]
    },
    {
      "cell_type": "code",
      "source": [
        "def tam_mi(sayi):\n",
        "    if sayi < 2:\n",
        "        return False\n",
        "    for i in range(2,int(sayi**0.5)+1):\n",
        "        if sayi % i == 0:\n",
        "            return False\n",
        "    return True\n",
        "\n",
        "def tam_sayilar(aralik):\n",
        "    tam_listesi = []\n",
        "    for i in range(2,aralik+1):\n",
        "        if tam_mi(i):\n",
        "            tam_listesi.append(i) # Append the prime number to the list\n",
        "    return tam_listesi\n",
        "\n",
        "print(tam_sayilar(100))\n",
        "aralik = 100\n",
        "sonuc=tam_sayilar(aralik)\n",
        "print(sonuc)\n",
        "print(\"1 ile\",aralik,\"arasındaki tam sayılar:\",sonuc)\n",
        "(100 * 12) / 12;\n",
        "#1 ile 100 arasında 12ye bölünen sayılar\n",
        "12,24,36,48,60,72,84,96"
      ],
      "metadata": {
        "colab": {
          "base_uri": "https://localhost:8080/"
        },
        "id": "MHZuv4oO3I0W",
        "outputId": "4551cf9d-900d-465c-ed06-79fdb5e7e8d8"
      },
      "execution_count": null,
      "outputs": [
        {
          "output_type": "stream",
          "name": "stdout",
          "text": [
            "[2, 3, 5, 7, 11, 13, 17, 19, 23, 29, 31, 37, 41, 43, 47, 53, 59, 61, 67, 71, 73, 79, 83, 89, 97]\n",
            "[2, 3, 5, 7, 11, 13, 17, 19, 23, 29, 31, 37, 41, 43, 47, 53, 59, 61, 67, 71, 73, 79, 83, 89, 97]\n",
            "1 ile 100 arasındaki tam sayılar: [2, 3, 5, 7, 11, 13, 17, 19, 23, 29, 31, 37, 41, 43, 47, 53, 59, 61, 67, 71, 73, 79, 83, 89, 97]\n"
          ]
        },
        {
          "output_type": "execute_result",
          "data": {
            "text/plain": [
              "(12, 24, 36, 48, 60, 72, 84, 96)"
            ]
          },
          "metadata": {},
          "execution_count": 54
        }
      ]
    },
    {
      "cell_type": "code",
      "source": [
        "# kullanıcıdan iiki sayı al\n",
        "Bir_sayi = int(input(\"Birinci sayıyı girin:\"))\n",
        "iki_sayi = int(input(\"İkinci sayıyı girin:\"))"
      ],
      "metadata": {
        "colab": {
          "base_uri": "https://localhost:8080/"
        },
        "id": "4JDnliJb1eyv",
        "outputId": "4f1e0bdb-5606-442b-a47f-ec4ebad93f93"
      },
      "execution_count": null,
      "outputs": [
        {
          "name": "stdout",
          "output_type": "stream",
          "text": [
            "Birinci sayıyı girin:10\n",
            "İkinci sayıyı girin:20\n"
          ]
        }
      ]
    },
    {
      "cell_type": "code",
      "source": [
        "Giris = input(\"Bir sayı girin:\")\n",
        "Giris2 = input(\"Bir sayı girin:\")\n",
        "try:\n",
        "   num=float(Giris)\n",
        "   print(f\"pozitif sayı:{num},tipi{type(num)},{abs(num)}\")\n",
        "except ValueError:\n",
        "    print(\"Geçersiz giriş.Lütfen bir sayı girin.\")\n",
        "    print(\"Sayıyı pozitife çeviriniz\")\n",
        "try:\n",
        "   num=float(Giris)\n",
        "   print(f\"pozitif sayı:{num},tipi{type(num)},{abs(num)}\")\n",
        "except ValueError:\n",
        "    print(\"Geçersiz giriş.Lütfen bir sayı girin.\")\n",
        "    print(\"Sayıyı pozitife çeviriniz\")"
      ],
      "metadata": {
        "colab": {
          "base_uri": "https://localhost:8080/"
        },
        "id": "bH2hmhT11wil",
        "outputId": "ce396a00-2b9d-4905-a040-84ca5c219a03"
      },
      "execution_count": null,
      "outputs": [
        {
          "output_type": "stream",
          "name": "stdout",
          "text": [
            "Bir sayı girin:94\n",
            "Bir sayı girin:31\n",
            "pozitif sayı:94.0,tipi<class 'float'>,94.0\n",
            "pozitif sayı:94.0,tipi<class 'float'>,94.0\n"
          ]
        }
      ]
    },
    {
      "cell_type": "code",
      "source": [
        "uzun = int(input(\"uzun kenar:\"))\n",
        "kısa = int(input(\"kısa kenar:\"))\n",
        "cevre =2*(kısa+uzun)\n",
        "alan = uzun*kısa\n",
        "print(\"cevre:\",cevre)\n",
        "print(\"alan:\",alan)"
      ],
      "metadata": {
        "colab": {
          "base_uri": "https://localhost:8080/"
        },
        "id": "RThxBXTi4vA5",
        "outputId": "2bcb5121-942d-43bb-ab9d-7c1a94b2ec73"
      },
      "execution_count": null,
      "outputs": [
        {
          "output_type": "stream",
          "name": "stdout",
          "text": [
            "uzun kenar:94\n",
            "kısa kenar:31\n",
            "cevre: 250\n",
            "alan: 2914\n"
          ]
        }
      ]
    },
    {
      "cell_type": "markdown",
      "source": [],
      "metadata": {
        "id": "u51n74Pozk9o"
      }
    }
  ]
}